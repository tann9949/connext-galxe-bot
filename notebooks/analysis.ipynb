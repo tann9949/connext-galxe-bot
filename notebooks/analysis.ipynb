{
 "cells": [
  {
   "cell_type": "code",
   "execution_count": 1,
   "id": "b7518de9-29f3-47da-8189-fdb8559d77ed",
   "metadata": {
    "tags": []
   },
   "outputs": [],
   "source": [
    "%reload_ext autoreload\n",
    "%autoreload 2"
   ]
  },
  {
   "cell_type": "code",
   "execution_count": 2,
   "id": "912edec4-773d-4484-be6e-3e15a9ebd1c0",
   "metadata": {
    "tags": []
   },
   "outputs": [],
   "source": [
    "!pip install -q -r ../requirements.dev.txt"
   ]
  },
  {
   "cell_type": "markdown",
   "id": "43d7e491-7763-4607-a3fe-cdae36b3b515",
   "metadata": {
    "tags": []
   },
   "source": [
    "## Imports & Functions"
   ]
  },
  {
   "cell_type": "code",
   "execution_count": 69,
   "id": "f79fb21c-2841-486e-8783-9d3787749516",
   "metadata": {
    "tags": []
   },
   "outputs": [
    {
     "name": "stdout",
     "output_type": "stream",
     "text": [
      ".env file loaded\n"
     ]
    }
   ],
   "source": [
    "# system lib\n",
    "import os\n",
    "import sys\n",
    "from datetime import datetime\n",
    "\n",
    "# append package path\n",
    "LIB_PATHS = [\n",
    "    os.path.join(os.getcwd(), \"..\")\n",
    "]\n",
    "\n",
    "for _lib in LIB_PATHS:\n",
    "    if _lib not in sys.path:\n",
    "        sys.path.append(_lib)\n",
    "        \n",
    "# import python packages  \n",
    "import pandas as pd\n",
    "from dotenv import load_dotenv\n",
    "from sqlalchemy import create_engine\n",
    "  \n",
    "# import local packages\n",
    "from src.constant import Chain\n",
    "from src.process_queue import TABLE_NAME_MAPPER\n",
    "from src.utils import print_log\n",
    "\n",
    "# load dotenv\n",
    "if load_dotenv():\n",
    "    print_log(\".env file loaded\")\n",
    "    \n",
    "CHAINS = [\n",
    "    Chain.ARBITRUM_ONE, Chain.OPTIMISM, \n",
    "    Chain.BNB_CHAIN, Chain.POLYGON, Chain.GNOSIS]"
   ]
  },
  {
   "cell_type": "code",
   "execution_count": 63,
   "id": "0bf26eed-c798-4c4d-ab23-3e03844ca778",
   "metadata": {
    "tags": []
   },
   "outputs": [],
   "source": [
    "def save_cache(chain: Chain, cache_path: str = \"cache\", reload: bool = True) -> None:\n",
    "    os.makedirs(cache_path, exist_ok=True)\n",
    "    cache_path = os.path.join(cache_path, Chain.resolve_connext_domain(chain)) + \".csv\"\n",
    "    if os.path.exists(cache_path) and not reload:\n",
    "        print_log(\"Cache already existed!\")\n",
    "        return\n",
    "    else:\n",
    "        print_log(\"Reloading data...\")\n",
    "        \n",
    "    table_name = TABLE_NAME_MAPPER.get(chain)\n",
    "    cnx = create_engine(\n",
    "        f\"mysql+pymysql://{os.getenv('AWS_RDS_USERNAME')}:{os.getenv('AWS_RDS_PASSWORD')}@{os.getenv('AWS_RDS_HOSTNAME')}/connext\")\n",
    "    df = pd.read_sql(\n",
    "        f\"SELECT * FROM {table_name}\",\n",
    "        cnx\n",
    "    )\n",
    "    df.to_csv(cache_path, index=False)\n",
    "    print_log(\"Cache saved successfully!\")\n",
    "\n",
    "    \n",
    "def load_txn_data(chain: Chain, use_cache: bool = True, cache_path: str = \"cache\") -> pd.DataFrame:\n",
    "    cache_path = os.path.join(cache_path, Chain.resolve_connext_domain(chain)) + \".csv\"\n",
    "    if use_cache and os.path.exists(cache_path):\n",
    "        print_log(\"Cache loaded successfully!\")\n",
    "        df = pd.read_csv(cache_path)\n",
    "    else:\n",
    "        print_log(\"Cache not found, loading from AWS RDS\")\n",
    "        table_name = TABLE_NAME_MAPPER.get(chain)\n",
    "        cnx = create_engine(\n",
    "            f\"mysql+pymysql://{os.getenv('AWS_RDS_USERNAME')}:{os.getenv('AWS_RDS_PASSWORD')}@{os.getenv('AWS_RDS_HOSTNAME')}/connext\")\n",
    "        df = pd.read_sql(\n",
    "            f\"SELECT * FROM {table_name}\",\n",
    "            cnx\n",
    "        )\n",
    "    df = df.drop(\"id\", axis=1).drop_duplicates()\n",
    "    return df"
   ]
  },
  {
   "cell_type": "markdown",
   "id": "5200fb2f-10ad-4ef0-a033-42d8a8fec893",
   "metadata": {
    "tags": []
   },
   "source": [
    "## Load Data"
   ]
  },
  {
   "cell_type": "code",
   "execution_count": 65,
   "id": "5615beaa-df86-46c2-8cb5-aa67fd793aa5",
   "metadata": {
    "tags": []
   },
   "outputs": [
    {
     "name": "stdout",
     "output_type": "stream",
     "text": [
      "Cache already existed!\n",
      "Cache already existed!\n",
      "Cache already existed!\n",
      "Cache already existed!\n",
      "Cache already existed!\n",
      "Cache loaded successfully!\n",
      "Data loaded from chain arbitrum_one, total of 23471 record\n",
      "Cache loaded successfully!\n",
      "Data loaded from chain optimism, total of 6163 record\n",
      "Cache loaded successfully!\n",
      "Data loaded from chain bnb_chain, total of 3399 record\n",
      "Cache loaded successfully!\n",
      "Data loaded from chain polygon, total of 13344 record\n",
      "Cache loaded successfully!\n",
      "Data loaded from chain gnosis, total of 2056 record\n"
     ]
    }
   ],
   "source": [
    "for chain in CHAINS:\n",
    "    save_cache(chain, reload=False)\n",
    "\n",
    "dataset = {}\n",
    "for chain in CHAINS:\n",
    "    df = load_txn_data(chain)\n",
    "    print_log(f\"Data loaded from chain {Chain.resolve_connext_domain(chain)}, total of {len(df)} record\")\n",
    "    dataset[chain] = df"
   ]
  },
  {
   "cell_type": "markdown",
   "id": "030943dc-ba47-4fde-be96-132b34819ae2",
   "metadata": {},
   "source": [
    "## Analysis"
   ]
  },
  {
   "cell_type": "code",
   "execution_count": 66,
   "id": "154d29b9-579f-4331-9b1c-fd0179004c99",
   "metadata": {
    "tags": []
   },
   "outputs": [],
   "source": [
    "chain = Chain.POLYGON"
   ]
  },
  {
   "cell_type": "code",
   "execution_count": 67,
   "id": "567891ab-678d-4485-8580-69bb79111a7d",
   "metadata": {
    "tags": []
   },
   "outputs": [],
   "source": [
    "df = dataset[chain]"
   ]
  },
  {
   "cell_type": "code",
   "execution_count": 68,
   "id": "2a3b6cdb-ecf9-459e-adcb-68017effe284",
   "metadata": {
    "tags": []
   },
   "outputs": [
    {
     "data": {
      "text/html": [
       "<div>\n",
       "<style scoped>\n",
       "    .dataframe tbody tr th:only-of-type {\n",
       "        vertical-align: middle;\n",
       "    }\n",
       "\n",
       "    .dataframe tbody tr th {\n",
       "        vertical-align: top;\n",
       "    }\n",
       "\n",
       "    .dataframe thead th {\n",
       "        text-align: right;\n",
       "    }\n",
       "</style>\n",
       "<table border=\"1\" class=\"dataframe\">\n",
       "  <thead>\n",
       "    <tr style=\"text-align: right;\">\n",
       "      <th></th>\n",
       "      <th>timestamp</th>\n",
       "      <th>chain</th>\n",
       "      <th>hash</th>\n",
       "      <th>user_address</th>\n",
       "      <th>token_address</th>\n",
       "      <th>token_amount</th>\n",
       "      <th>action</th>\n",
       "    </tr>\n",
       "  </thead>\n",
       "  <tbody>\n",
       "    <tr>\n",
       "      <th>0</th>\n",
       "      <td>1672780925</td>\n",
       "      <td>1886350457</td>\n",
       "      <td>0xfedf86d20dca8062f2c0619e74557fb09df875416122...</td>\n",
       "      <td>0xade09131c6f43fe22c2cbabb759636c43cfc181e</td>\n",
       "      <td>0xa03258b76Ef13AF716370529358f6A79eb03ec12</td>\n",
       "      <td>1.00000</td>\n",
       "      <td>2</td>\n",
       "    </tr>\n",
       "    <tr>\n",
       "      <th>1</th>\n",
       "      <td>1672815083</td>\n",
       "      <td>1886350457</td>\n",
       "      <td>0x31185a9751f885655e2324ed59551510823a5e9f207e...</td>\n",
       "      <td>0xd78c323477500744214f662c15c82895a0bbdae9</td>\n",
       "      <td>0xa03258b76Ef13AF716370529358f6A79eb03ec12</td>\n",
       "      <td>49993.40000</td>\n",
       "      <td>1</td>\n",
       "    </tr>\n",
       "    <tr>\n",
       "      <th>2</th>\n",
       "      <td>1672930555</td>\n",
       "      <td>1886350457</td>\n",
       "      <td>0x6c56fae03cfc751f3d4539b9fc03bb0fd7cc7327aa42...</td>\n",
       "      <td>0x09c6fedfbbc7861b95c3be56df9bff2328392970</td>\n",
       "      <td>0xa03258b76Ef13AF716370529358f6A79eb03ec12</td>\n",
       "      <td>1.99795</td>\n",
       "      <td>1</td>\n",
       "    </tr>\n",
       "    <tr>\n",
       "      <th>3</th>\n",
       "      <td>1672942790</td>\n",
       "      <td>1886350457</td>\n",
       "      <td>0x99694fe9a2098905298f1f3ca97a4a8300cd3d0fface...</td>\n",
       "      <td>0x560034a84358e18ffaf5f25ee3f32107cf4f7eed</td>\n",
       "      <td>0xa03258b76Ef13AF716370529358f6A79eb03ec12</td>\n",
       "      <td>5.00059</td>\n",
       "      <td>1</td>\n",
       "    </tr>\n",
       "    <tr>\n",
       "      <th>4</th>\n",
       "      <td>1672958258</td>\n",
       "      <td>1886350457</td>\n",
       "      <td>0x97cc5e16ead3ff46a4a91fd136c5d036e223da84094e...</td>\n",
       "      <td>0xfe264f8a5f66a750f9a24b69f3e27b88ea8632c4</td>\n",
       "      <td>0xa03258b76Ef13AF716370529358f6A79eb03ec12</td>\n",
       "      <td>1.98784</td>\n",
       "      <td>1</td>\n",
       "    </tr>\n",
       "    <tr>\n",
       "      <th>...</th>\n",
       "      <td>...</td>\n",
       "      <td>...</td>\n",
       "      <td>...</td>\n",
       "      <td>...</td>\n",
       "      <td>...</td>\n",
       "      <td>...</td>\n",
       "      <td>...</td>\n",
       "    </tr>\n",
       "    <tr>\n",
       "      <th>13518</th>\n",
       "      <td>1681873840</td>\n",
       "      <td>1886350457</td>\n",
       "      <td>0xe8ca7de951a00ab9e0b8bd86f984840794804bdedfe7...</td>\n",
       "      <td>0xfec8ac88aa938d32b54ca92a620d81f1a1b45b15</td>\n",
       "      <td>0xa03258b76Ef13AF716370529358f6A79eb03ec12</td>\n",
       "      <td>95.62950</td>\n",
       "      <td>1</td>\n",
       "    </tr>\n",
       "    <tr>\n",
       "      <th>13519</th>\n",
       "      <td>1681874087</td>\n",
       "      <td>1886350457</td>\n",
       "      <td>0xe251651a317a3d868c46553a8816e700639ddf42ef82...</td>\n",
       "      <td>0xf0116097dadadf896318554ebd22237a214ff6ca</td>\n",
       "      <td>0xa03258b76Ef13AF716370529358f6A79eb03ec12</td>\n",
       "      <td>398.15100</td>\n",
       "      <td>1</td>\n",
       "    </tr>\n",
       "    <tr>\n",
       "      <th>13520</th>\n",
       "      <td>1681874284</td>\n",
       "      <td>1886350457</td>\n",
       "      <td>0x2c85dd83c0abbe3dfba00ca1ac51968199c34330fb3d...</td>\n",
       "      <td>0x06c4d97162283327df694b4cbabb4c2ad823c24c</td>\n",
       "      <td>0xa03258b76Ef13AF716370529358f6A79eb03ec12</td>\n",
       "      <td>88.36540</td>\n",
       "      <td>1</td>\n",
       "    </tr>\n",
       "    <tr>\n",
       "      <th>13521</th>\n",
       "      <td>1681874858</td>\n",
       "      <td>1886350457</td>\n",
       "      <td>0x2614167ee9b1611254fcddf0d485805511f846d7fa09...</td>\n",
       "      <td>0xa33f0a402d9cff2e4e6f03698161756f60723f56</td>\n",
       "      <td>0xa03258b76Ef13AF716370529358f6A79eb03ec12</td>\n",
       "      <td>95.30610</td>\n",
       "      <td>1</td>\n",
       "    </tr>\n",
       "    <tr>\n",
       "      <th>13522</th>\n",
       "      <td>1681876780</td>\n",
       "      <td>1886350457</td>\n",
       "      <td>0x6696c85ff50dfbdd4067896a3b8ae61ace38e7de654e...</td>\n",
       "      <td>0x39e15c3d861ad88254c63331d1c6217e08e761a0</td>\n",
       "      <td>0xa03258b76Ef13AF716370529358f6A79eb03ec12</td>\n",
       "      <td>88.11860</td>\n",
       "      <td>1</td>\n",
       "    </tr>\n",
       "  </tbody>\n",
       "</table>\n",
       "<p>13344 rows × 7 columns</p>\n",
       "</div>"
      ],
      "text/plain": [
       "        timestamp       chain   \n",
       "0      1672780925  1886350457  \\\n",
       "1      1672815083  1886350457   \n",
       "2      1672930555  1886350457   \n",
       "3      1672942790  1886350457   \n",
       "4      1672958258  1886350457   \n",
       "...           ...         ...   \n",
       "13518  1681873840  1886350457   \n",
       "13519  1681874087  1886350457   \n",
       "13520  1681874284  1886350457   \n",
       "13521  1681874858  1886350457   \n",
       "13522  1681876780  1886350457   \n",
       "\n",
       "                                                    hash   \n",
       "0      0xfedf86d20dca8062f2c0619e74557fb09df875416122...  \\\n",
       "1      0x31185a9751f885655e2324ed59551510823a5e9f207e...   \n",
       "2      0x6c56fae03cfc751f3d4539b9fc03bb0fd7cc7327aa42...   \n",
       "3      0x99694fe9a2098905298f1f3ca97a4a8300cd3d0fface...   \n",
       "4      0x97cc5e16ead3ff46a4a91fd136c5d036e223da84094e...   \n",
       "...                                                  ...   \n",
       "13518  0xe8ca7de951a00ab9e0b8bd86f984840794804bdedfe7...   \n",
       "13519  0xe251651a317a3d868c46553a8816e700639ddf42ef82...   \n",
       "13520  0x2c85dd83c0abbe3dfba00ca1ac51968199c34330fb3d...   \n",
       "13521  0x2614167ee9b1611254fcddf0d485805511f846d7fa09...   \n",
       "13522  0x6696c85ff50dfbdd4067896a3b8ae61ace38e7de654e...   \n",
       "\n",
       "                                     user_address   \n",
       "0      0xade09131c6f43fe22c2cbabb759636c43cfc181e  \\\n",
       "1      0xd78c323477500744214f662c15c82895a0bbdae9   \n",
       "2      0x09c6fedfbbc7861b95c3be56df9bff2328392970   \n",
       "3      0x560034a84358e18ffaf5f25ee3f32107cf4f7eed   \n",
       "4      0xfe264f8a5f66a750f9a24b69f3e27b88ea8632c4   \n",
       "...                                           ...   \n",
       "13518  0xfec8ac88aa938d32b54ca92a620d81f1a1b45b15   \n",
       "13519  0xf0116097dadadf896318554ebd22237a214ff6ca   \n",
       "13520  0x06c4d97162283327df694b4cbabb4c2ad823c24c   \n",
       "13521  0xa33f0a402d9cff2e4e6f03698161756f60723f56   \n",
       "13522  0x39e15c3d861ad88254c63331d1c6217e08e761a0   \n",
       "\n",
       "                                    token_address  token_amount  action  \n",
       "0      0xa03258b76Ef13AF716370529358f6A79eb03ec12       1.00000       2  \n",
       "1      0xa03258b76Ef13AF716370529358f6A79eb03ec12   49993.40000       1  \n",
       "2      0xa03258b76Ef13AF716370529358f6A79eb03ec12       1.99795       1  \n",
       "3      0xa03258b76Ef13AF716370529358f6A79eb03ec12       5.00059       1  \n",
       "4      0xa03258b76Ef13AF716370529358f6A79eb03ec12       1.98784       1  \n",
       "...                                           ...           ...     ...  \n",
       "13518  0xa03258b76Ef13AF716370529358f6A79eb03ec12      95.62950       1  \n",
       "13519  0xa03258b76Ef13AF716370529358f6A79eb03ec12     398.15100       1  \n",
       "13520  0xa03258b76Ef13AF716370529358f6A79eb03ec12      88.36540       1  \n",
       "13521  0xa03258b76Ef13AF716370529358f6A79eb03ec12      95.30610       1  \n",
       "13522  0xa03258b76Ef13AF716370529358f6A79eb03ec12      88.11860       1  \n",
       "\n",
       "[13344 rows x 7 columns]"
      ]
     },
     "execution_count": 68,
     "metadata": {},
     "output_type": "execute_result"
    }
   ],
   "source": [
    "df"
   ]
  },
  {
   "cell_type": "code",
   "execution_count": null,
   "id": "5809eedb-ec6e-4731-aea6-b15e72c98810",
   "metadata": {},
   "outputs": [],
   "source": []
  }
 ],
 "metadata": {
  "kernelspec": {
   "display_name": "Python 3 (ipykernel)",
   "language": "python",
   "name": "python3"
  },
  "language_info": {
   "codemirror_mode": {
    "name": "ipython",
    "version": 3
   },
   "file_extension": ".py",
   "mimetype": "text/x-python",
   "name": "python",
   "nbconvert_exporter": "python",
   "pygments_lexer": "ipython3",
   "version": "3.9.16"
  }
 },
 "nbformat": 4,
 "nbformat_minor": 5
}
